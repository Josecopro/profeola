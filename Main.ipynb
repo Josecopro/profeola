{
 "cells": [
  {
   "cell_type": "markdown",
   "metadata": {},
   "source": [
    "# Algoritmos de ordenamiento Pensamiento Algoritmico \n",
    "> ## Algorimos seleccionados para el proyecto\n",
    "> Insertion sort\n",
    "\n",
    "> Merge sort\n",
    "\n",
    "> Heap sort\n",
    "\n",
    "> Quick sort\n",
    "\n",
    "**Insertion Sort:**  \n",
    "Inserta cada elemento en su posición correcta dentro de una lista previamente ordenada. Es simple pero ineficiente para grandes listas.\n",
    "\n",
    "**Merge Sort:**  \n",
    "Divide la lista en mitades, ordena cada mitad y las combina de forma ordenada. Es eficiente y estable.\n",
    "\n",
    "**Heap Sort:**  \n",
    "Convierte la lista en un heap, luego extrae el elemento máximo repetidamente para reconstruir la lista ordenada. Es eficiente y no estable.\n",
    "\n",
    "**Quick Sort:**  \n",
    "Selecciona un pivote, particiona la lista en elementos menores y mayores al pivote, y ordena recursivamente. Es rápido pero no estable.\n",
    "\n",
    "**Selección de algoritmos**"
   ]
  }
 ],
 "metadata": {
  "language_info": {
   "name": "python"
  }
 },
 "nbformat": 4,
 "nbformat_minor": 2
}
