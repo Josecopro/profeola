{
 "cells": [
  {
   "cell_type": "markdown",
   "id": "0d026c1f",
   "metadata": {},
   "source": [
    "<h1 align=\"center\">Pensamiento Algorítmico</h1>\n",
    "<h1 align=\"center\">Quiz 04</h1>\n",
    "<h1 align=\"center\">Tema: Ordenación</h1>\n",
    "<h1 align=\"center\">2024</h1>\n",
    "<h1 align=\"center\">MEDELLÍN - COLOMBIA </h1>"
   ]
  },
  {
   "cell_type": "markdown",
   "id": "fec816e1",
   "metadata": {},
   "source": [
    "*** \n",
    "|[![Outlook](https://img.shields.io/badge/Microsoft_Outlook-0078D4?style=plastic&logo=microsoft-outlook&logoColor=white)](mailto:calvarezh@udemedellin.edu.co)||[![Open In Colab](https://colab.research.google.com/assets/colab-badge.svg)](https://colab.research.google.com/github/carlosalvarezh/NN.ipynb)\n",
    "|-:|:-|--:|\n",
    "|[![LinkedIn](https://img.shields.io/badge/linkedin-%230077B5.svg?style=plastic&logo=linkedin&logoColor=white)](https://www.linkedin.com/in/carlosalvarez5/)|[![@alvarezhenao](https://img.shields.io/twitter/url/https/twitter.com/alvarezhenao.svg?style=social&label=Follow%20%40alvarezhenao)](https://twitter.com/alvarezhenao)|[![@carlosalvarezh](https://img.shields.io/badge/github-%23121011.svg?style=plastic&logo=github&logoColor=white)](https://github.com/carlosalvarezh)|\n",
    "\n",
    "<table>\n",
    " <tr align=left><td><img align=left src=\"https://github.com/carlosalvarezh/Curso_CEC_EAFIT/blob/main/images/CCLogoColorPop1.gif?raw=true\" width=\"25\">\n",
    " <td>Text provided under a Creative Commons Attribution license, CC-BY. All code is made available under the FSF-approved MIT license.(c) Carlos Alberto Alvarez Henao</td>\n",
    "</table>\n",
    "\n",
    "***"
   ]
  },
  {
   "cell_type": "markdown",
   "id": "8d051279",
   "metadata": {},
   "source": [
    "# Análisis Comparativo del Desempeño de Algoritmos de Ordenación"
   ]
  },
  {
   "cell_type": "markdown",
   "id": "fd8a605a",
   "metadata": {},
   "source": [
    "#### Objetivo"
   ]
  },
  {
   "cell_type": "markdown",
   "id": "8b9cd3ed",
   "metadata": {},
   "source": [
    "Evaluar y comparar el desempeño de diferentes algoritmos de ordenamiento a través de la implementación práctica, medición de métricas de rendimiento y análisis de los resultados obtenidos. "
   ]
  },
  {
   "cell_type": "markdown",
   "id": "dafc88d4",
   "metadata": {},
   "source": [
    "#### Actividades a Realizar"
   ]
  },
  {
   "cell_type": "markdown",
   "id": "df96d25c",
   "metadata": {},
   "source": [
    "1. **Selección de Algoritmos**:\n",
    "   - Cada estudiante debe seleccionar al menos cuatro algoritmos de ordenamiento para analizar. Ejemplos incluyen Bubble Sort, Insertion Sort, Selection Sort, Merge Sort, Quick Sort, y Heap Sort.\n",
    "   - Se debe proporcionar una breve descripción y justificación de la elección de cada algoritmo.\n",
    "<p>&nbsp;</p>\n",
    "\n",
    "2. **Implementación de Algoritmos**:\n",
    "   - Implementar cada algoritmo de ordenamiento en el lenguaje de programación de su preferencia, sin usar funciones preconstruidas (o propias del lenguaje) que realicen el ordenamiento.\n",
    "   - Asegurarse de que el código esté bien comentado para explicar la lógica utilizada.\n",
    "<p>&nbsp;</p>\n",
    "\n",
    "3. **Generación de Datos de Prueba**:\n",
    "   - Generar conjuntos de datos de prueba que incluyan listas de diferentes tamaños y condiciones (por ejemplo, listas ya ordenadas, listas ordenadas en reversa, listas aleatorias).\n",
    "   - Garantizar que cada algoritmo se prueba con los mismos datos para una comparación justa.\n",
    "<p>&nbsp;</p>\n",
    "\n",
    "4. **Medición de Métricas de Desempeño**:\n",
    "   - Medir y registrar el tiempo de ejecución para cada algoritmo con varios tamaños de listas (1000, 10000, 100000, 1000000, ... elementos).\n",
    "   - Medir otras métricas relevantes como número de comparaciones, intercambios y uso de memoria, si es posible. (opcional)\n",
    "   - Documentar cómo se realizan las mediciones y cualquier herramienta utilizada.\n",
    "<p>&nbsp;</p>\n",
    "\n",
    "5. **Análisis de Resultados**:\n",
    "   - Analizar los resultados obtenidos y comparar su rendimiento (temporal y/o espacial).\n",
    "   - Identificar tendencias, como la variación del tiempo de ejecución con el tamaño de la lista, y explicar por qué ciertos algoritmos funcionan mejor o peor en diferentes condiciones.\n",
    "<p>&nbsp;</p>\n",
    "\n",
    "6. **Visualización de Datos**:\n",
    "   - Utilizar gráficos para representar los resultados de las métricas de desempeño, facilitando la comparación visual entre los algoritmos.\n",
    "   - Incluir gráficos que muestren el tiempo de ejecución en función del tamaño de la entrada, y otros gráficos relevantes para comparaciones y swaps.\n",
    "<p>&nbsp;</p>\n",
    "\n",
    "7. **Preparación del Reporte Final**:\n",
    "   - Escribir un informe que incluya:\n",
    "     - Introducción al proyecto y a los algoritmos seleccionados.\n",
    "     - Descripción de la metodología, incluyendo cómo se implementaron los algoritmos y cómo se recopilaron los datos.\n",
    "     - Sección de resultados que incluya tanto los datos numéricos como los gráficos.\n",
    "     - Discusión de los resultados, incluyendo cualquier conclusión o recomendación basada en el análisis.\n",
    "     - Bibliografía o referencias utilizadas.\n",
    "<p>&nbsp;</p>\n",
    "\n",
    "8. **Presentación**:\n",
    "   - Preparar una presentación oral o en video para explicar los hallazgos del proyecto.\n",
    "   - La presentación debe ser clara, bien organizada y debe incluir una demostración de los gráficos y principales hallazgos.\n"
   ]
  },
  {
   "cell_type": "markdown",
   "id": "54bf3b5a",
   "metadata": {},
   "source": [
    "#### Criterios de Evaluación:"
   ]
  },
  {
   "cell_type": "markdown",
   "id": "a1ebd0ee",
   "metadata": {},
   "source": [
    "La evaluación se basará en la rúbrica proporcionada anteriormente, teniendo en cuenta la precisión técnica, la profundidad del análisis, la calidad de la presentación y la originalidad del enfoque."
   ]
  },
  {
   "cell_type": "markdown",
   "id": "da2dfd5d",
   "metadata": {},
   "source": [
    "#### Entregables:"
   ]
  },
  {
   "cell_type": "markdown",
   "id": "b191f0ce",
   "metadata": {},
   "source": [
    "- Código fuente de los algoritmos implementados.\n",
    "- Conjuntos de datos de prueba generados y utilizados.\n",
    "- Reporte final escrito.\n",
    "\n",
    "Se puede entregar un único archivo en jupyter Notebook o en diferentes archivos texto comprimidos en un único archivo. La entrega deberá ser enviada desde su correo institucional al correo institucional del docente: carlosalvarezh@udemedellin.edu.co en un único archivo comprimido nombrado de la siguiente manera: \n",
    "\n",
    "`Apellido1Apellido2Nombre1Nombre2.zip`, \n",
    "\n",
    "por ejemplo:\n",
    "\n",
    "`AlvarezHenaoCarlosAlberto.zip`\n",
    "\n",
    "En el asunto del correo deberán colocar:\n",
    "\n",
    "`Quiz04 Taller Ordenación`"
   ]
  },
  {
   "cell_type": "markdown",
   "id": "933bcde0",
   "metadata": {},
   "source": [
    "#### Fecha Límite de entrega:"
   ]
  },
  {
   "cell_type": "markdown",
   "id": "6277c29c",
   "metadata": {},
   "source": [
    "jueves 23 de mayo de 2024 hasta las 11:59 pm por el correoinstitucional anteriormente indicado."
   ]
  },
  {
   "cell_type": "code",
   "execution_count": null,
   "id": "60a91524",
   "metadata": {},
   "outputs": [],
   "source": []
  }
 ],
 "metadata": {
  "kernelspec": {
   "display_name": "Python 3 (ipykernel)",
   "language": "python",
   "name": "python3"
  },
  "language_info": {
   "codemirror_mode": {
    "name": "ipython",
    "version": 3
   },
   "file_extension": ".py",
   "mimetype": "text/x-python",
   "name": "python",
   "nbconvert_exporter": "python",
   "pygments_lexer": "ipython3",
   "version": "3.11.8"
  },
  "toc": {
   "base_numbering": 1,
   "nav_menu": {},
   "number_sections": true,
   "sideBar": true,
   "skip_h1_title": true,
   "title_cell": "Table of Contents",
   "title_sidebar": "Contents",
   "toc_cell": false,
   "toc_position": {
    "height": "calc(100% - 180px)",
    "left": "10px",
    "top": "150px",
    "width": "219.429px"
   },
   "toc_section_display": true,
   "toc_window_display": false
  }
 },
 "nbformat": 4,
 "nbformat_minor": 5
}
